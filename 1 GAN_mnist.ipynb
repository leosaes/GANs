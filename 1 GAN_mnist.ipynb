{
 "cells": [
  {
   "cell_type": "code",
   "execution_count": null,
   "metadata": {
    "colab": {},
    "colab_type": "code",
    "id": "1hB3219A4bC4"
   },
   "outputs": [],
   "source": [
    "import tensorflow_datasets as tfds"
   ]
  },
  {
   "cell_type": "code",
   "execution_count": null,
   "metadata": {
    "colab": {
     "base_uri": "https://localhost:8080/",
     "height": 195,
     "referenced_widgets": [
      "f4443d8d91d044b0ad2bac8a1a23800c",
      "a773fcc408dc4573895f264279079fd5",
      "30a87d0ca8e44f1eb6a72002f42c2fa0",
      "2835c27c94f94fb3bf0028ce24478b8f",
      "e3d86ceea7eb44da90f7650fd608b3f8",
      "7b56ff24fb1c49cd8ae98df793c6f245",
      "94ac83ef683044d38f659836738273d6",
      "b7ffca859d5448c5a367fe6cf0a2b4fa"
     ]
    },
    "colab_type": "code",
    "executionInfo": {
     "elapsed": 12542,
     "status": "ok",
     "timestamp": 1599740430751,
     "user": {
      "displayName": "Denny Seccon",
      "photoUrl": "https://lh3.googleusercontent.com/a-/AOh14GgJKBMgIypXsiOd8ZOSskERpZBMuJN6csHlr9Wo=s64",
      "userId": "03904535882374894686"
     },
     "user_tz": 180
    },
    "id": "KUk93xJP4bDH",
    "outputId": "3a57286a-c14e-4afd-90bc-44ae3bb6841c"
   },
   "outputs": [
    {
     "name": "stdout",
     "output_type": "stream",
     "text": [
      "\u001b[1mDownloading and preparing dataset mnist/3.0.0 (download: 11.06 MiB, generated: Unknown size, total: 11.06 MiB) to /root/tensorflow_datasets/mnist/3.0.0...\u001b[0m\n"
     ]
    },
    {
     "name": "stderr",
     "output_type": "stream",
     "text": [
      "WARNING:absl:Dataset mnist is hosted on GCS. It will automatically be downloaded to your\n",
      "local data directory. If you'd instead prefer to read directly from our public\n",
      "GCS bucket (recommended if you're running on GCP), you can instead set\n",
      "data_dir=gs://tfds-data/datasets.\n",
      "\n"
     ]
    },
    {
     "data": {
      "application/vnd.jupyter.widget-view+json": {
       "model_id": "f4443d8d91d044b0ad2bac8a1a23800c",
       "version_major": 2,
       "version_minor": 0
      },
      "text/plain": [
       "HBox(children=(FloatProgress(value=0.0, description='Dl Completed...', max=4.0, style=ProgressStyle(descriptio…"
      ]
     },
     "metadata": {
      "tags": []
     },
     "output_type": "display_data"
    },
    {
     "name": "stdout",
     "output_type": "stream",
     "text": [
      "\n",
      "\n",
      "\u001b[1mDataset mnist downloaded and prepared to /root/tensorflow_datasets/mnist/3.0.0. Subsequent calls will reuse this data.\u001b[0m\n"
     ]
    }
   ],
   "source": [
    "ds_train = tfds.load('mnist', split = 'train', as_supervised = True)\n",
    "def transform(f, l):\n",
    "    return f/255, l\n",
    "ds_train = ds_train.map(transform)"
   ]
  },
  {
   "cell_type": "code",
   "execution_count": null,
   "metadata": {
    "colab": {},
    "colab_type": "code",
    "id": "UP2drAlz7hPF"
   },
   "outputs": [],
   "source": [
    "feature, _ = next(iter(ds_train.take(1)))"
   ]
  },
  {
   "cell_type": "code",
   "execution_count": null,
   "metadata": {
    "colab": {
     "base_uri": "https://localhost:8080/",
     "height": 281
    },
    "colab_type": "code",
    "executionInfo": {
     "elapsed": 13650,
     "status": "ok",
     "timestamp": 1599740431932,
     "user": {
      "displayName": "Denny Seccon",
      "photoUrl": "https://lh3.googleusercontent.com/a-/AOh14GgJKBMgIypXsiOd8ZOSskERpZBMuJN6csHlr9Wo=s64",
      "userId": "03904535882374894686"
     },
     "user_tz": 180
    },
    "id": "XUYX_CPw4bDS",
    "outputId": "9a32890d-0219-43b3-f13d-c0b8ac69015d"
   },
   "outputs": [
    {
     "data": {
      "text/plain": [
       "<matplotlib.image.AxesImage at 0x7fa0307b8748>"
      ]
     },
     "execution_count": 4,
     "metadata": {
      "tags": []
     },
     "output_type": "execute_result"
    },
    {
     "data": {
      "image/png": "[encoded data removed]",
      "text/plain": [
       "<Figure size 432x288 with 1 Axes>"
      ]
     },
     "metadata": {
      "needs_background": "light",
      "tags": []
     },
     "output_type": "display_data"
    }
   ],
   "source": [
    "import matplotlib.pyplot as plt\n",
    "plt.imshow(feature.numpy().reshape(28, 28), cmap = 'Greys')"
   ]
  },
  {
   "cell_type": "code",
   "execution_count": null,
   "metadata": {
    "colab": {
     "base_uri": "https://localhost:8080/",
     "height": 1000
    },
    "colab_type": "code",
    "executionInfo": {
     "elapsed": 13635,
     "status": "ok",
     "timestamp": 1599740431935,
     "user": {
      "displayName": "Denny Seccon",
      "photoUrl": "https://lh3.googleusercontent.com/a-/AOh14GgJKBMgIypXsiOd8ZOSskERpZBMuJN6csHlr9Wo=s64",
      "userId": "03904535882374894686"
     },
     "user_tz": 180
    },
    "id": "lfhLxJlW4bDa",
    "outputId": "17a6b630-f211-4d4c-962d-bf00dab1bf23"
   },
   "outputs": [
    {
     "data": {
      "text/plain": [
       "array([0.        , 0.        , 0.        , 0.        , 0.        ,\n",
       "       0.        , 0.        , 0.        , 0.        , 0.        ,\n",
       "       0.        , 0.        , 0.        , 0.        , 0.        ,\n",
       "       0.        , 0.        , 0.        , 0.        , 0.        ,\n",
       "       0.        , 0.        , 0.        , 0.        , 0.        ,\n",
       "       0.        , 0.        , 0.        , 0.        , 0.        ,\n",
       "       0.        , 0.        , 0.        , 0.        , 0.        ,\n",
       "       0.        , 0.        , 0.        , 0.        , 0.        ,\n",
       "       0.        , 0.        , 0.        , 0.        , 0.        ,\n",
       "       0.        , 0.        , 0.        , 0.        , 0.        ,\n",
       "       0.        , 0.        , 0.        , 0.        , 0.        ,\n",
       "       0.        , 0.        , 0.        , 0.        , 0.        ,\n",
       "       0.        , 0.        , 0.        , 0.        , 0.        ,\n",
       "       0.        , 0.        , 0.        , 0.        , 0.        ,\n",
       "       0.        , 0.        , 0.        , 0.        , 0.        ,\n",
       "       0.        , 0.        , 0.        , 0.        , 0.        ,\n",
       "       0.        , 0.        , 0.        , 0.        , 0.        ,\n",
       "       0.        , 0.        , 0.        , 0.        , 0.        ,\n",
       "       0.        , 0.        , 0.        , 0.        , 0.        ,\n",
       "       0.        , 0.        , 0.        , 0.        , 0.        ,\n",
       "       0.        , 0.        , 0.        , 0.        , 0.        ,\n",
       "       0.        , 0.        , 0.        , 0.        , 0.        ,\n",
       "       0.        , 0.        , 0.        , 0.        , 0.        ,\n",
       "       0.        , 0.        , 0.        , 0.        , 0.        ,\n",
       "       0.        , 0.        , 0.        , 0.        , 0.        ,\n",
       "       0.        , 0.        , 0.        , 0.        , 0.        ,\n",
       "       0.        , 0.        , 0.        , 0.        , 0.        ,\n",
       "       0.        , 0.        , 0.        , 0.        , 0.        ,\n",
       "       0.        , 0.        , 0.        , 0.        , 0.        ,\n",
       "       0.        , 0.        , 0.        , 0.        , 0.        ,\n",
       "       0.        , 0.        , 0.        , 0.        , 0.        ,\n",
       "       0.        , 0.        , 0.32941177, 0.99607843, 0.39607844,\n",
       "       0.        , 0.        , 0.        , 0.        , 0.        ,\n",
       "       0.        , 0.        , 0.        , 0.        , 0.        ,\n",
       "       0.        , 0.        , 0.        , 0.        , 0.        ,\n",
       "       0.        , 0.        , 0.        , 0.        , 0.        ,\n",
       "       0.        , 0.        , 0.        , 0.        , 0.        ,\n",
       "       0.68235296, 0.99215686, 0.46666667, 0.        , 0.        ,\n",
       "       0.        , 0.        , 0.        , 0.        , 0.        ,\n",
       "       0.        , 0.        , 0.        , 0.        , 0.        ,\n",
       "       0.        , 0.        , 0.        , 0.        , 0.        ,\n",
       "       0.        , 0.        , 0.        , 0.        , 0.        ,\n",
       "       0.        , 0.        , 0.12156863, 0.96862745, 0.7921569 ,\n",
       "       0.11372549, 0.        , 0.        , 0.        , 0.        ,\n",
       "       0.        , 0.        , 0.        , 0.        , 0.        ,\n",
       "       0.        , 0.        , 0.        , 0.        , 0.        ,\n",
       "       0.        , 0.        , 0.        , 0.00392157, 0.00392157,\n",
       "       0.        , 0.        , 0.        , 0.        , 0.        ,\n",
       "       0.5529412 , 0.99215686, 0.65882355, 0.        , 0.        ,\n",
       "       0.        , 0.        , 0.        , 0.        , 0.        ,\n",
       "       0.        , 0.        , 0.        , 0.        , 0.        ,\n",
       "       0.        , 0.        , 0.        , 0.        , 0.        ,\n",
       "       0.        , 0.25882354, 0.8156863 , 0.21960784, 0.        ,\n",
       "       0.        , 0.        , 0.        , 0.7294118 , 0.99215686,\n",
       "       0.47058824, 0.        , 0.        , 0.        , 0.        ,\n",
       "       0.        , 0.        , 0.        , 0.        , 0.        ,\n",
       "       0.        , 0.        , 0.        , 0.        , 0.        ,\n",
       "       0.        , 0.        , 0.        , 0.        , 0.22352941,\n",
       "       0.99215686, 0.46666667, 0.        , 0.        , 0.        ,\n",
       "       0.10980392, 0.9764706 , 0.9411765 , 0.09803922, 0.        ,\n",
       "       0.        , 0.        , 0.        , 0.        , 0.        ,\n",
       "       0.        , 0.        , 0.        , 0.        , 0.        ,\n",
       "       0.        , 0.        , 0.        , 0.        , 0.        ,\n",
       "       0.        , 0.        , 0.13333334, 0.99215686, 0.46666667,\n",
       "       0.        , 0.        , 0.        , 0.42745098, 0.99607843,\n",
       "       0.77254903, 0.        , 0.        , 0.        , 0.        ,\n",
       "       0.        , 0.        , 0.        , 0.        , 0.        ,\n",
       "       0.        , 0.        , 0.        , 0.        , 0.        ,\n",
       "       0.        , 0.        , 0.        , 0.        , 0.        ,\n",
       "       0.20784314, 0.99215686, 0.46666667, 0.        , 0.        ,\n",
       "       0.        , 0.5294118 , 0.99607843, 0.52156866, 0.        ,\n",
       "       0.        , 0.        , 0.        , 0.        , 0.        ,\n",
       "       0.        , 0.        , 0.        , 0.        , 0.        ,\n",
       "       0.        , 0.        , 0.        , 0.        , 0.        ,\n",
       "       0.        , 0.        , 0.        , 0.52156866, 0.99607843,\n",
       "       0.46666667, 0.        , 0.        , 0.10588235, 0.9411765 ,\n",
       "       1.        , 0.13725491, 0.        , 0.        , 0.        ,\n",
       "       0.        , 0.        , 0.        , 0.        , 0.        ,\n",
       "       0.        , 0.        , 0.        , 0.        , 0.        ,\n",
       "       0.        , 0.        , 0.        , 0.        , 0.        ,\n",
       "       0.02745098, 0.92156863, 0.99215686, 0.8156863 , 0.5921569 ,\n",
       "       0.6627451 , 0.84313726, 0.99215686, 0.80784315, 0.00784314,\n",
       "       0.        , 0.        , 0.        , 0.        , 0.        ,\n",
       "       0.        , 0.        , 0.        , 0.        , 0.        ,\n",
       "       0.        , 0.        , 0.        , 0.        , 0.        ,\n",
       "       0.        , 0.        , 0.        , 0.38039216, 0.99215686,\n",
       "       0.99215686, 0.99215686, 0.99607843, 0.99215686, 0.99215686,\n",
       "       0.99215686, 0.3372549 , 0.        , 0.        , 0.        ,\n",
       "       0.        , 0.        , 0.        , 0.        , 0.        ,\n",
       "       0.        , 0.        , 0.        , 0.        , 0.        ,\n",
       "       0.        , 0.        , 0.        , 0.        , 0.        ,\n",
       "       0.        , 0.5882353 , 0.95686275, 0.5686275 , 0.46666667,\n",
       "       0.39607844, 0.32156864, 0.99215686, 0.99215686, 0.05490196,\n",
       "       0.        , 0.        , 0.        , 0.        , 0.        ,\n",
       "       0.        , 0.        , 0.        , 0.        , 0.        ,\n",
       "       0.        , 0.        , 0.        , 0.        , 0.        ,\n",
       "       0.        , 0.        , 0.        , 0.        , 0.        ,\n",
       "       0.        , 0.        , 0.        , 0.        , 0.32941177,\n",
       "       0.99607843, 0.6745098 , 0.        , 0.        , 0.        ,\n",
       "       0.        , 0.        , 0.        , 0.        , 0.        ,\n",
       "       0.        , 0.        , 0.        , 0.        , 0.        ,\n",
       "       0.        , 0.        , 0.        , 0.        , 0.        ,\n",
       "       0.        , 0.        , 0.        , 0.        , 0.        ,\n",
       "       0.        , 0.        , 0.68235296, 0.99215686, 0.46666667,\n",
       "       0.        , 0.        , 0.        , 0.        , 0.        ,\n",
       "       0.        , 0.        , 0.        , 0.        , 0.        ,\n",
       "       0.        , 0.        , 0.        , 0.        , 0.        ,\n",
       "       0.        , 0.        , 0.        , 0.        , 0.        ,\n",
       "       0.        , 0.        , 0.        , 0.        , 0.        ,\n",
       "       0.92941177, 0.9882353 , 0.21960784, 0.        , 0.        ,\n",
       "       0.        , 0.        , 0.        , 0.        , 0.        ,\n",
       "       0.        , 0.        , 0.        , 0.        , 0.        ,\n",
       "       0.        , 0.        , 0.        , 0.        , 0.        ,\n",
       "       0.        , 0.        , 0.        , 0.        , 0.        ,\n",
       "       0.        , 0.        , 0.19607843, 0.94509804, 0.7137255 ,\n",
       "       0.        , 0.        , 0.        , 0.        , 0.        ,\n",
       "       0.        , 0.        , 0.        , 0.        , 0.        ,\n",
       "       0.        , 0.        , 0.        , 0.        , 0.        ,\n",
       "       0.        , 0.        , 0.        , 0.        , 0.        ,\n",
       "       0.        , 0.        , 0.        , 0.        , 0.        ,\n",
       "       0.73333335, 0.99607843, 0.9764706 , 0.4117647 , 0.        ,\n",
       "       0.        , 0.        , 0.        , 0.        , 0.        ,\n",
       "       0.        , 0.        , 0.        , 0.        , 0.        ,\n",
       "       0.        , 0.        , 0.        , 0.        , 0.        ,\n",
       "       0.        , 0.        , 0.        , 0.        , 0.        ,\n",
       "       0.        , 0.        , 0.        , 0.7294118 , 0.99215686,\n",
       "       0.80784315, 0.08235294, 0.        , 0.        , 0.        ,\n",
       "       0.        , 0.        , 0.        , 0.        , 0.        ,\n",
       "       0.        , 0.        , 0.        , 0.        , 0.        ,\n",
       "       0.        , 0.        , 0.        , 0.        , 0.        ,\n",
       "       0.        , 0.        , 0.        , 0.        , 0.        ,\n",
       "       0.        , 0.8901961 , 0.9490196 , 0.1254902 , 0.        ,\n",
       "       0.        , 0.        , 0.        , 0.        , 0.        ,\n",
       "       0.        , 0.        , 0.        , 0.        , 0.        ,\n",
       "       0.        , 0.        , 0.        , 0.        , 0.        ,\n",
       "       0.        , 0.        , 0.        , 0.        , 0.        ,\n",
       "       0.        , 0.        , 0.        , 0.        , 0.9254902 ,\n",
       "       0.85882354, 0.        , 0.        , 0.        , 0.        ,\n",
       "       0.        , 0.        , 0.        , 0.        , 0.        ,\n",
       "       0.        , 0.        , 0.        , 0.        , 0.        ,\n",
       "       0.        , 0.        , 0.        , 0.        , 0.        ,\n",
       "       0.        , 0.        , 0.        , 0.        , 0.        ,\n",
       "       0.        , 0.        , 0.        , 0.        , 0.        ,\n",
       "       0.        , 0.        , 0.        , 0.        , 0.        ,\n",
       "       0.        , 0.        , 0.        , 0.        , 0.        ,\n",
       "       0.        , 0.        , 0.        , 0.        , 0.        ,\n",
       "       0.        , 0.        , 0.        , 0.        , 0.        ,\n",
       "       0.        , 0.        , 0.        , 0.        , 0.        ,\n",
       "       0.        , 0.        , 0.        , 0.        , 0.        ,\n",
       "       0.        , 0.        , 0.        , 0.        , 0.        ,\n",
       "       0.        , 0.        , 0.        , 0.        , 0.        ,\n",
       "       0.        , 0.        , 0.        , 0.        , 0.        ,\n",
       "       0.        , 0.        , 0.        , 0.        , 0.        ,\n",
       "       0.        , 0.        , 0.        , 0.        , 0.        ,\n",
       "       0.        , 0.        , 0.        , 0.        , 0.        ,\n",
       "       0.        , 0.        , 0.        , 0.        , 0.        ,\n",
       "       0.        , 0.        , 0.        , 0.        ], dtype=float32)"
      ]
     },
     "execution_count": 5,
     "metadata": {
      "tags": []
     },
     "output_type": "execute_result"
    }
   ],
   "source": [
    "feature.numpy().ravel()"
   ]
  },
  {
   "cell_type": "code",
   "execution_count": null,
   "metadata": {
    "colab": {
     "base_uri": "https://localhost:8080/",
     "height": 281
    },
    "colab_type": "code",
    "executionInfo": {
     "elapsed": 13598,
     "status": "ok",
     "timestamp": 1599740431937,
     "user": {
      "displayName": "Denny Seccon",
      "photoUrl": "https://lh3.googleusercontent.com/a-/AOh14GgJKBMgIypXsiOd8ZOSskERpZBMuJN6csHlr9Wo=s64",
      "userId": "03904535882374894686"
     },
     "user_tz": 180
    },
    "id": "KuRXUgSs4bDl",
    "outputId": "1886613d-2015-4668-a2c4-9a18f69080b8"
   },
   "outputs": [
    {
     "data": {
      "text/plain": [
       "<matplotlib.image.AxesImage at 0x7fa0302801d0>"
      ]
     },
     "execution_count": 6,
     "metadata": {
      "tags": []
     },
     "output_type": "execute_result"
    },
    {
     "data": {
      "image/png": "[encoded data removed]",
      "text/plain": [
       "<Figure size 432x288 with 1 Axes>"
      ]
     },
     "metadata": {
      "needs_background": "light",
      "tags": []
     },
     "output_type": "display_data"
    }
   ],
   "source": [
    "import numpy as np\n",
    "imagem1 = np.arange(0, 784).reshape(28, 28)\n",
    "plt.imshow(imagem1)"
   ]
  },
  {
   "cell_type": "code",
   "execution_count": null,
   "metadata": {
    "colab": {
     "base_uri": "https://localhost:8080/",
     "height": 281
    },
    "colab_type": "code",
    "executionInfo": {
     "elapsed": 13574,
     "status": "ok",
     "timestamp": 1599740431939,
     "user": {
      "displayName": "Denny Seccon",
      "photoUrl": "https://lh3.googleusercontent.com/a-/AOh14GgJKBMgIypXsiOd8ZOSskERpZBMuJN6csHlr9Wo=s64",
      "userId": "03904535882374894686"
     },
     "user_tz": 180
    },
    "id": "mYwpCMq14bDx",
    "outputId": "9365012b-763a-4830-d861-2211dfaced1b"
   },
   "outputs": [
    {
     "data": {
      "text/plain": [
       "<matplotlib.image.AxesImage at 0x7fa03026b940>"
      ]
     },
     "execution_count": 7,
     "metadata": {
      "tags": []
     },
     "output_type": "execute_result"
    },
    {
     "data": {
      "image/png": "[encoded data removed]",
      "text/plain": [
       "<Figure size 432x288 with 1 Axes>"
      ]
     },
     "metadata": {
      "needs_background": "light",
      "tags": []
     },
     "output_type": "display_data"
    }
   ],
   "source": [
    "np.random.seed(42)\n",
    "imagem2 = np.random.normal(size = 784).reshape(28, 28)\n",
    "plt.imshow(imagem2)"
   ]
  },
  {
   "cell_type": "code",
   "execution_count": null,
   "metadata": {
    "colab": {
     "base_uri": "https://localhost:8080/",
     "height": 35
    },
    "colab_type": "code",
    "executionInfo": {
     "elapsed": 13546,
     "status": "ok",
     "timestamp": 1599740431940,
     "user": {
      "displayName": "Denny Seccon",
      "photoUrl": "https://lh3.googleusercontent.com/a-/AOh14GgJKBMgIypXsiOd8ZOSskERpZBMuJN6csHlr9Wo=s64",
      "userId": "03904535882374894686"
     },
     "user_tz": 180
    },
    "id": "Img582LW77VY",
    "outputId": "48f40c91-3fe8-4cd0-bca6-5f4e13bdec84"
   },
   "outputs": [
    {
     "data": {
      "application/vnd.google.colaboratory.intrinsic+json": {
       "type": "string"
      },
      "text/plain": [
       "'2.3.0'"
      ]
     },
     "execution_count": 8,
     "metadata": {
      "tags": []
     },
     "output_type": "execute_result"
    }
   ],
   "source": [
    "import tensorflow as tf\n",
    "tf.random.set_seed(42)\n",
    "\n",
    "tf.__version__"
   ]
  },
  {
   "cell_type": "code",
   "execution_count": null,
   "metadata": {
    "colab": {},
    "colab_type": "code",
    "id": "RxI33kuY7_Gm"
   },
   "outputs": [],
   "source": [
    "gerador = tf.keras.Sequential([\n",
    "                               tf.keras.layers.Dense(units = 128, activation = 'relu'),\n",
    "                               tf.keras.layers.Dense(units = 128, activation = 'relu'),\n",
    "                               tf.keras.layers.Dense(units = 784, activation = 'tanh')\n",
    "                               ])"
   ]
  },
  {
   "cell_type": "code",
   "execution_count": null,
   "metadata": {
    "colab": {},
    "colab_type": "code",
    "id": "cBgsPZR98Zu_"
   },
   "outputs": [],
   "source": [
    "ruido_teste = tf.random.uniform(shape = (1, 100), minval = -1, maxval = 1)\n",
    "amostra = gerador(ruido_teste)"
   ]
  },
  {
   "cell_type": "code",
   "execution_count": null,
   "metadata": {
    "colab": {
     "base_uri": "https://localhost:8080/",
     "height": 33
    },
    "colab_type": "code",
    "executionInfo": {
     "elapsed": 14468,
     "status": "ok",
     "timestamp": 1599740432897,
     "user": {
      "displayName": "Denny Seccon",
      "photoUrl": "https://lh3.googleusercontent.com/a-/AOh14GgJKBMgIypXsiOd8ZOSskERpZBMuJN6csHlr9Wo=s64",
      "userId": "03904535882374894686"
     },
     "user_tz": 180
    },
    "id": "uheaJczp8pWY",
    "outputId": "4aab39eb-6035-4162-fa34-8193cf6c8360"
   },
   "outputs": [
    {
     "data": {
      "text/plain": [
       "TensorShape([1, 784])"
      ]
     },
     "execution_count": 11,
     "metadata": {
      "tags": []
     },
     "output_type": "execute_result"
    }
   ],
   "source": [
    "amostra.shape"
   ]
  },
  {
   "cell_type": "code",
   "execution_count": null,
   "metadata": {
    "colab": {
     "base_uri": "https://localhost:8080/",
     "height": 281
    },
    "colab_type": "code",
    "executionInfo": {
     "elapsed": 15327,
     "status": "ok",
     "timestamp": 1599740433787,
     "user": {
      "displayName": "Denny Seccon",
      "photoUrl": "https://lh3.googleusercontent.com/a-/AOh14GgJKBMgIypXsiOd8ZOSskERpZBMuJN6csHlr9Wo=s64",
      "userId": "03904535882374894686"
     },
     "user_tz": 180
    },
    "id": "AJyJFAbt8sMS",
    "outputId": "e2296feb-1ed8-4dcb-f0a9-dbb97a44e7a3"
   },
   "outputs": [
    {
     "data": {
      "text/plain": [
       "<matplotlib.image.AxesImage at 0x7fa030136630>"
      ]
     },
     "execution_count": 12,
     "metadata": {
      "tags": []
     },
     "output_type": "execute_result"
    },
    {
     "data": {
      "image/png": "[encoded data removed]",
      "text/plain": [
       "<Figure size 432x288 with 1 Axes>"
      ]
     },
     "metadata": {
      "needs_background": "light",
      "tags": []
     },
     "output_type": "display_data"
    }
   ],
   "source": [
    "plt.imshow(amostra.numpy().reshape(28, 28))"
   ]
  },
  {
   "cell_type": "code",
   "execution_count": null,
   "metadata": {
    "colab": {},
    "colab_type": "code",
    "id": "vbuuSEnl81GV"
   },
   "outputs": [],
   "source": [
    "discriminador = tf.keras.Sequential([\n",
    "                                     tf.keras.layers.Dense(units = 128, activation = 'relu'),\n",
    "                                     tf.keras.layers.Dense(units = 128, activation = 'relu'),\n",
    "                                     tf.keras.layers.Dense(units = 1)\n",
    "                                     ])"
   ]
  },
  {
   "cell_type": "code",
   "execution_count": null,
   "metadata": {
    "colab": {
     "base_uri": "https://localhost:8080/",
     "height": 33
    },
    "colab_type": "code",
    "executionInfo": {
     "elapsed": 15303,
     "status": "ok",
     "timestamp": 1599740433791,
     "user": {
      "displayName": "Denny Seccon",
      "photoUrl": "https://lh3.googleusercontent.com/a-/AOh14GgJKBMgIypXsiOd8ZOSskERpZBMuJN6csHlr9Wo=s64",
      "userId": "03904535882374894686"
     },
     "user_tz": 180
    },
    "id": "UvuQPgAYDuhy",
    "outputId": "4273bb9c-5512-4708-b228-aa43948eee0c"
   },
   "outputs": [
    {
     "data": {
      "text/plain": [
       "TensorShape([100, 28, 28, 1])"
      ]
     },
     "execution_count": 14,
     "metadata": {
      "tags": []
     },
     "output_type": "execute_result"
    }
   ],
   "source": [
    "features, _ = next(iter(ds_train.batch(100)))\n",
    "features.shape"
   ]
  },
  {
   "cell_type": "code",
   "execution_count": null,
   "metadata": {
    "colab": {
     "base_uri": "https://localhost:8080/",
     "height": 33
    },
    "colab_type": "code",
    "executionInfo": {
     "elapsed": 15284,
     "status": "ok",
     "timestamp": 1599740433793,
     "user": {
      "displayName": "Denny Seccon",
      "photoUrl": "https://lh3.googleusercontent.com/a-/AOh14GgJKBMgIypXsiOd8ZOSskERpZBMuJN6csHlr9Wo=s64",
      "userId": "03904535882374894686"
     },
     "user_tz": 180
    },
    "id": "sOby4IYMEzrL",
    "outputId": "c81ccb2e-25e1-4bf4-9fbc-801fddf2e1fc"
   },
   "outputs": [
    {
     "data": {
      "text/plain": [
       "TensorShape([100, 1])"
      ]
     },
     "execution_count": 15,
     "metadata": {
      "tags": []
     },
     "output_type": "execute_result"
    }
   ],
   "source": [
    "features = tf.reshape(features, shape = (-1, 784))\n",
    "logits = discriminador(features)\n",
    "logits.shape"
   ]
  },
  {
   "cell_type": "code",
   "execution_count": null,
   "metadata": {
    "colab": {
     "base_uri": "https://localhost:8080/",
     "height": 1000
    },
    "colab_type": "code",
    "executionInfo": {
     "elapsed": 15268,
     "status": "ok",
     "timestamp": 1599740433795,
     "user": {
      "displayName": "Denny Seccon",
      "photoUrl": "https://lh3.googleusercontent.com/a-/AOh14GgJKBMgIypXsiOd8ZOSskERpZBMuJN6csHlr9Wo=s64",
      "userId": "03904535882374894686"
     },
     "user_tz": 180
    },
    "id": "85tyZpXzFRp2",
    "outputId": "dd13f799-a3c6-4a80-d310-fdd481c1aa12"
   },
   "outputs": [
    {
     "data": {
      "text/plain": [
       "<tf.Tensor: shape=(100, 1), dtype=float32, numpy=\n",
       "array([[ 0.18297854],\n",
       "       [ 0.17831   ],\n",
       "       [-0.3469825 ],\n",
       "       [-0.12812875],\n",
       "       [-0.13397396],\n",
       "       [-0.23618498],\n",
       "       [ 0.09759843],\n",
       "       [ 0.12691945],\n",
       "       [ 0.13534722],\n",
       "       [-0.4226235 ],\n",
       "       [-0.0135354 ],\n",
       "       [-0.25346333],\n",
       "       [-0.18107134],\n",
       "       [ 0.21714237],\n",
       "       [-0.4534733 ],\n",
       "       [-0.06052256],\n",
       "       [-0.2314047 ],\n",
       "       [-0.1968312 ],\n",
       "       [-0.21485287],\n",
       "       [-0.03403728],\n",
       "       [-0.23020437],\n",
       "       [-0.25743145],\n",
       "       [-0.30554956],\n",
       "       [-0.21032165],\n",
       "       [-0.1439465 ],\n",
       "       [-0.16955076],\n",
       "       [-0.15790623],\n",
       "       [-0.24080169],\n",
       "       [-0.11211802],\n",
       "       [ 0.02675569],\n",
       "       [ 0.00741151],\n",
       "       [-0.4790987 ],\n",
       "       [-0.29772994],\n",
       "       [-0.07231369],\n",
       "       [-0.12896499],\n",
       "       [-0.1936123 ],\n",
       "       [-0.03965401],\n",
       "       [-0.24924143],\n",
       "       [-0.2743643 ],\n",
       "       [-0.32804257],\n",
       "       [ 0.2552184 ],\n",
       "       [-0.09693013],\n",
       "       [ 0.06325644],\n",
       "       [-0.15179893],\n",
       "       [ 0.10330056],\n",
       "       [ 0.20863527],\n",
       "       [-0.01700036],\n",
       "       [ 0.10621235],\n",
       "       [-0.0260701 ],\n",
       "       [ 0.02734673],\n",
       "       [ 0.00855908],\n",
       "       [-0.04893108],\n",
       "       [-0.11004589],\n",
       "       [-0.08449417],\n",
       "       [-0.04824078],\n",
       "       [-0.10581984],\n",
       "       [ 0.34076822],\n",
       "       [-0.23010933],\n",
       "       [ 0.01978522],\n",
       "       [-0.424385  ],\n",
       "       [-0.03313218],\n",
       "       [ 0.05536968],\n",
       "       [-0.1527549 ],\n",
       "       [-0.48404372],\n",
       "       [-0.36462608],\n",
       "       [ 0.22644788],\n",
       "       [ 0.20756255],\n",
       "       [ 0.14274785],\n",
       "       [-0.2662465 ],\n",
       "       [-0.2874596 ],\n",
       "       [-0.11147942],\n",
       "       [-0.04340109],\n",
       "       [-0.28437352],\n",
       "       [-0.01206812],\n",
       "       [ 0.05647739],\n",
       "       [-0.02998868],\n",
       "       [-0.4779149 ],\n",
       "       [-0.1439569 ],\n",
       "       [ 0.10036312],\n",
       "       [-0.16584136],\n",
       "       [-0.12060553],\n",
       "       [-0.18019211],\n",
       "       [-0.6266987 ],\n",
       "       [-0.027051  ],\n",
       "       [-0.2072174 ],\n",
       "       [-0.07704104],\n",
       "       [ 0.03606654],\n",
       "       [-0.03323745],\n",
       "       [-0.01596674],\n",
       "       [ 0.0722834 ],\n",
       "       [-0.2168925 ],\n",
       "       [-0.1069721 ],\n",
       "       [-0.17503591],\n",
       "       [-0.05334897],\n",
       "       [-0.06108494],\n",
       "       [-0.35069585],\n",
       "       [ 0.06418944],\n",
       "       [ 0.01577787],\n",
       "       [ 0.12252662],\n",
       "       [-0.17264119]], dtype=float32)>"
      ]
     },
     "execution_count": 16,
     "metadata": {
      "tags": []
     },
     "output_type": "execute_result"
    }
   ],
   "source": [
    "logits"
   ]
  },
  {
   "cell_type": "code",
   "execution_count": null,
   "metadata": {
    "colab": {
     "base_uri": "https://localhost:8080/",
     "height": 1000
    },
    "colab_type": "code",
    "executionInfo": {
     "elapsed": 15246,
     "status": "ok",
     "timestamp": 1599740433796,
     "user": {
      "displayName": "Denny Seccon",
      "photoUrl": "https://lh3.googleusercontent.com/a-/AOh14GgJKBMgIypXsiOd8ZOSskERpZBMuJN6csHlr9Wo=s64",
      "userId": "03904535882374894686"
     },
     "user_tz": 180
    },
    "id": "zXLouvXEMjTY",
    "outputId": "6c2bbaf6-5259-4920-87c4-5f24750b4646"
   },
   "outputs": [
    {
     "data": {
      "text/plain": [
       "<tf.Tensor: shape=(100, 1), dtype=float32, numpy=\n",
       "array([[0.5456174 ],\n",
       "       [0.54445976],\n",
       "       [0.41411433],\n",
       "       [0.4680116 ],\n",
       "       [0.46655652],\n",
       "       [0.44122675],\n",
       "       [0.52438027],\n",
       "       [0.5316874 ],\n",
       "       [0.5337852 ],\n",
       "       [0.39588916],\n",
       "       [0.49661618],\n",
       "       [0.43697122],\n",
       "       [0.45485544],\n",
       "       [0.55407333],\n",
       "       [0.38853523],\n",
       "       [0.48487392],\n",
       "       [0.44240558],\n",
       "       [0.45095047],\n",
       "       [0.44649243],\n",
       "       [0.4914915 ],\n",
       "       [0.44270173],\n",
       "       [0.43599522],\n",
       "       [0.4242014 ],\n",
       "       [0.44761252],\n",
       "       [0.4640754 ],\n",
       "       [0.45771357],\n",
       "       [0.4606053 ],\n",
       "       [0.44008878],\n",
       "       [0.4719998 ],\n",
       "       [0.50668854],\n",
       "       [0.50185287],\n",
       "       [0.38246498],\n",
       "       [0.42611253],\n",
       "       [0.48192948],\n",
       "       [0.4678034 ],\n",
       "       [0.45174757],\n",
       "       [0.49008784],\n",
       "       [0.43801022],\n",
       "       [0.431836  ],\n",
       "       [0.418717  ],\n",
       "       [0.56346047],\n",
       "       [0.47578645],\n",
       "       [0.5158088 ],\n",
       "       [0.46212298],\n",
       "       [0.5258022 ],\n",
       "       [0.5519704 ],\n",
       "       [0.49575004],\n",
       "       [0.5265282 ],\n",
       "       [0.49348283],\n",
       "       [0.50683624],\n",
       "       [0.50213975],\n",
       "       [0.48776966],\n",
       "       [0.47251627],\n",
       "       [0.47888902],\n",
       "       [0.48794216],\n",
       "       [0.4735697 ],\n",
       "       [0.5843771 ],\n",
       "       [0.44272518],\n",
       "       [0.5049462 ],\n",
       "       [0.39546794],\n",
       "       [0.49171773],\n",
       "       [0.5138389 ],\n",
       "       [0.46188533],\n",
       "       [0.38129774],\n",
       "       [0.40984014],\n",
       "       [0.5563713 ],\n",
       "       [0.5517051 ],\n",
       "       [0.5356265 ],\n",
       "       [0.43382883],\n",
       "       [0.42862588],\n",
       "       [0.472159  ],\n",
       "       [0.4891514 ],\n",
       "       [0.42938188],\n",
       "       [0.49698302],\n",
       "       [0.5141156 ],\n",
       "       [0.49250337],\n",
       "       [0.38274464],\n",
       "       [0.46407282],\n",
       "       [0.5250697 ],\n",
       "       [0.45863444],\n",
       "       [0.4698851 ],\n",
       "       [0.45507348],\n",
       "       [0.34825948],\n",
       "       [0.4932377 ],\n",
       "       [0.44838026],\n",
       "       [0.48074925],\n",
       "       [0.5090157 ],\n",
       "       [0.49169144],\n",
       "       [0.49600846],\n",
       "       [0.518063  ],\n",
       "       [0.44598842],\n",
       "       [0.47328246],\n",
       "       [0.4563524 ],\n",
       "       [0.48666593],\n",
       "       [0.4847335 ],\n",
       "       [0.41321367],\n",
       "       [0.5160418 ],\n",
       "       [0.5039444 ],\n",
       "       [0.5305934 ],\n",
       "       [0.45694658]], dtype=float32)>"
      ]
     },
     "execution_count": 17,
     "metadata": {
      "tags": []
     },
     "output_type": "execute_result"
    }
   ],
   "source": [
    "tf.nn.sigmoid(logits)"
   ]
  },
  {
   "cell_type": "code",
   "execution_count": null,
   "metadata": {
    "colab": {
     "base_uri": "https://localhost:8080/",
     "height": 1000
    },
    "colab_type": "code",
    "executionInfo": {
     "elapsed": 4586934,
     "status": "ok",
     "timestamp": 1599745005503,
     "user": {
      "displayName": "Denny Seccon",
      "photoUrl": "https://lh3.googleusercontent.com/a-/AOh14GgJKBMgIypXsiOd8ZOSskERpZBMuJN6csHlr9Wo=s64",
      "userId": "03904535882374894686"
     },
     "user_tz": 180
    },
    "id": "SMEKqQ839n9o",
    "outputId": "18e9cb49-5535-4874-c885-8efc21613d00"
   },
   "outputs": [
    {
     "name": "stdout",
     "output_type": "stream",
     "text": [
      "época: 1 erro D: 0.4435781961182753 erro G: 3.903004496643941\n",
      "época: 2 erro D: 0.7600197279453278 erro G: 3.1241982306043306\n",
      "época: 3 erro D: 1.0067487432062625 erro G: 3.0993166851003964\n",
      "época: 4 erro D: 1.3605766388277212 erro G: 3.065726202776035\n",
      "época: 5 erro D: 1.2109773096938927 erro G: 1.7718100726107757\n",
      "época: 6 erro D: 1.1424798826376596 erro G: 2.815305021802584\n",
      "época: 7 erro D: 1.244856627881527 erro G: 2.5789511361221473\n",
      "época: 8 erro D: 1.1975254234671593 erro G: 2.9802061249812444\n",
      "época: 9 erro D: 1.1979009679953256 erro G: 2.2990584454437095\n",
      "época: 10 erro D: 1.5325553818543751 erro G: 2.39021484375\n",
      "época: 11 erro D: 1.4695153931776683 erro G: 2.3552687303721904\n",
      "época: 12 erro D: 1.226642890026172 erro G: 2.4267650320132574\n",
      "época: 13 erro D: 1.228365346888701 erro G: 2.2064813500642777\n",
      "época: 14 erro D: 1.1835838001966477 erro G: 2.6085344099005066\n",
      "época: 15 erro D: 1.2139100510875385 erro G: 1.832996453344822\n",
      "época: 16 erro D: 1.108693154056867 erro G: 1.9519826750953992\n",
      "época: 17 erro D: 1.0649354949096839 erro G: 2.2256989274422327\n",
      "época: 18 erro D: 1.0598231275876364 erro G: 2.3084324242671332\n",
      "época: 19 erro D: 0.9466166316469511 erro G: 2.3934897695978483\n",
      "época: 20 erro D: 1.039801929394404 erro G: 1.9707933654387793\n",
      "época: 21 erro D: 0.9512517463664214 erro G: 2.63018456329902\n",
      "época: 22 erro D: 1.0270952247579892 erro G: 2.0247623122731846\n",
      "época: 23 erro D: 1.0714070010185242 erro G: 2.373819912075996\n",
      "época: 24 erro D: 1.0730340480804443 erro G: 1.8221657143036525\n",
      "época: 25 erro D: 1.1076538240909577 erro G: 1.793399132390817\n",
      "época: 26 erro D: 1.2733018334706625 erro G: 2.171712491363287\n",
      "época: 27 erro D: 1.0899435604612033 erro G: 2.8474894898136456\n",
      "época: 28 erro D: 0.8938820375998815 erro G: 3.16570108016332\n",
      "época: 29 erro D: 1.12032318080465 erro G: 2.60700876057148\n",
      "época: 30 erro D: 1.105493195950985 erro G: 2.0173616393407188\n",
      "época: 31 erro D: 0.9871446433663368 erro G: 1.9460274903972943\n",
      "época: 32 erro D: 1.1033105872074762 erro G: 2.4784374109903973\n",
      "época: 33 erro D: 0.6319435617824396 erro G: 3.1621913826465606\n",
      "época: 34 erro D: 0.9494896658261617 erro G: 2.2034418492515884\n",
      "época: 35 erro D: 0.9152590896189213 erro G: 2.1991554275155067\n",
      "época: 36 erro D: 0.9574827513595422 erro G: 3.5395414116978645\n",
      "época: 37 erro D: 0.750657516469558 erro G: 3.377571954727173\n",
      "época: 38 erro D: 0.8520859386026859 erro G: 2.2796478295326232\n",
      "época: 39 erro D: 1.0244902501503625 erro G: 1.8884162337581316\n",
      "época: 40 erro D: 1.1205740223328273 erro G: 1.9419038263956705\n",
      "época: 41 erro D: 1.147211317618688 erro G: 1.616147135992845\n",
      "época: 42 erro D: 1.124213747481505 erro G: 2.003047222395738\n",
      "época: 43 erro D: 1.2696250836054483 erro G: 2.7315837608774505\n",
      "época: 44 erro D: 0.7273177043596903 erro G: 3.879785312016805\n",
      "época: 45 erro D: 0.8254294737180075 erro G: 3.106913456519445\n",
      "época: 46 erro D: 0.976651234527429 erro G: 1.997926652332147\n",
      "época: 47 erro D: 1.0005483026305835 erro G: 1.9247192164262137\n",
      "época: 48 erro D: 0.9565433076024056 erro G: 2.2839287038644156\n",
      "época: 49 erro D: 0.9902256785829862 erro G: 2.0137125766277313\n",
      "época: 50 erro D: 0.969780817826589 erro G: 1.9651870044072468\n",
      "época: 51 erro D: 0.9235250208775202 erro G: 2.2347867278258007\n",
      "época: 52 erro D: 0.9725223457813263 erro G: 2.4044053229689597\n",
      "época: 53 erro D: 0.7896931459506352 erro G: 2.5309547914067902\n",
      "época: 54 erro D: 0.8765538034836451 erro G: 2.2206697552402814\n",
      "época: 55 erro D: 0.8793868437409401 erro G: 3.0538592422008515\n",
      "época: 56 erro D: 0.9614798998832703 erro G: 2.1862313919266065\n",
      "época: 57 erro D: 1.0680382363001506 erro G: 1.7349947716792424\n",
      "época: 58 erro D: 1.048956920703252 erro G: 1.7828014437357584\n",
      "época: 59 erro D: 1.0673354277014733 erro G: 1.930378496348858\n",
      "época: 60 erro D: 1.0811087222894034 erro G: 1.9378959824641546\n",
      "época: 61 erro D: 1.137909834384918 erro G: 1.8010242526729903\n",
      "época: 62 erro D: 1.0828190944592158 erro G: 1.918265253007412\n",
      "época: 63 erro D: 0.9502656156818072 erro G: 1.8456766961018245\n",
      "época: 64 erro D: 0.9661519015828769 erro G: 2.675503972172737\n",
      "época: 65 erro D: 1.0172030871113142 erro G: 2.1277967900037766\n",
      "época: 66 erro D: 0.9900164381663005 erro G: 2.120644640723864\n",
      "época: 67 erro D: 0.9924556398391724 erro G: 2.1809849576155345\n",
      "época: 68 erro D: 0.9301562674840291 erro G: 2.7854826319217683\n",
      "época: 69 erro D: 1.0246776116887728 erro G: 2.033990863164266\n",
      "época: 70 erro D: 0.9691382239262263 erro G: 2.0006032582124074\n",
      "época: 71 erro D: 0.9255057283242544 erro G: 2.105459466179212\n",
      "época: 72 erro D: 0.9712925587097804 erro G: 2.248747970064481\n",
      "época: 73 erro D: 0.8562605198224386 erro G: 2.3314716331164043\n",
      "época: 74 erro D: 0.9177603710691135 erro G: 2.123472465276718\n",
      "época: 75 erro D: 0.848713193933169 erro G: 2.349186903834343\n",
      "época: 76 erro D: 0.8816067766149839 erro G: 2.4446112370491027\n",
      "época: 77 erro D: 0.9156992736458779 erro G: 1.9750273690621059\n",
      "época: 78 erro D: 0.9279372395078341 erro G: 1.9907823477188746\n",
      "época: 79 erro D: 0.9355442511041959 erro G: 2.0244803048173585\n",
      "época: 80 erro D: 0.9206559265653292 erro G: 1.9842366894086203\n",
      "época: 81 erro D: 0.9087211922804515 erro G: 2.5472226705153784\n",
      "época: 82 erro D: 0.9075514643390974 erro G: 2.4070868132511776\n",
      "época: 83 erro D: 0.9779606186350187 erro G: 2.093958252867063\n",
      "época: 84 erro D: 0.9466886621713638 erro G: 2.0174873875578245\n",
      "época: 85 erro D: 1.0089035434524218 erro G: 1.6903547920783362\n",
      "época: 86 erro D: 1.0034251927336058 erro G: 1.8316080504655838\n",
      "época: 87 erro D: 1.015503765443961 erro G: 1.9370487082004546\n",
      "época: 88 erro D: 1.0410362658898036 erro G: 3.0668365208307904\n",
      "época: 89 erro D: 0.9446944515903791 erro G: 2.16059168835481\n",
      "época: 90 erro D: 0.9837168275316557 erro G: 2.2050708381334942\n",
      "época: 91 erro D: 1.0190958533684413 erro G: 1.826395523349444\n",
      "época: 92 erro D: 1.0000111975272497 erro G: 1.811150195002556\n",
      "época: 93 erro D: 0.9856491633256277 erro G: 1.9109288402398428\n",
      "época: 94 erro D: 0.966065800289313 erro G: 2.056985002954801\n",
      "época: 95 erro D: 1.0201827698946 erro G: 1.789566372235616\n",
      "época: 96 erro D: 0.9909055909514427 erro G: 1.9157314131657281\n",
      "época: 97 erro D: 0.9670641680558523 erro G: 1.840633047024409\n",
      "época: 98 erro D: 0.9439929062128067 erro G: 1.8990241837501527\n",
      "época: 99 erro D: 0.9585410943627357 erro G: 1.8936027433474858\n",
      "época: 100 erro D: 0.9446132811903953 erro G: 2.1384685226281483\n",
      "época: 101 erro D: 0.9589902802308401 erro G: 1.9733559807141623\n",
      "época: 102 erro D: 0.9758116900920868 erro G: 1.8774189388751983\n",
      "época: 103 erro D: 1.0024446146686872 erro G: 1.7318783179918924\n",
      "época: 104 erro D: 1.0137575457493464 erro G: 1.7162850187222163\n",
      "época: 105 erro D: 0.9716736789544423 erro G: 1.7948797212044398\n",
      "época: 106 erro D: 0.9343934966127078 erro G: 2.0782836057742435\n",
      "época: 107 erro D: 0.9192926579713822 erro G: 2.014568074544271\n",
      "época: 108 erro D: 0.9308751779794693 erro G: 1.9841866556803385\n",
      "época: 109 erro D: 0.9430251401662827 erro G: 1.8071238992611567\n",
      "época: 110 erro D: 0.9583640458186468 erro G: 1.7115996803840001\n",
      "época: 111 erro D: 0.9454133175810178 erro G: 1.9795397247870763\n",
      "época: 112 erro D: 0.9819200161099434 erro G: 1.703193838596344\n",
      "época: 113 erro D: 0.977511210044225 erro G: 1.807597881158193\n",
      "época: 114 erro D: 0.9387783351540565 erro G: 1.7914004870255789\n",
      "época: 115 erro D: 0.9716091882189115 erro G: 1.784045467376709\n",
      "época: 116 erro D: 0.9417638705174128 erro G: 1.7494277014334996\n",
      "época: 117 erro D: 0.9383763085802396 erro G: 1.9635448416074117\n",
      "época: 118 erro D: 0.9852850133180618 erro G: 1.77282912393411\n",
      "época: 119 erro D: 0.9816396894057592 erro G: 1.678404656648636\n",
      "época: 120 erro D: 0.982942368388176 erro G: 1.7401170776287715\n",
      "época: 121 erro D: 0.9947798520326614 erro G: 1.7188208838303884\n",
      "época: 122 erro D: 1.0106050884723663 erro G: 1.631411950190862\n",
      "época: 123 erro D: 1.0400239791472752 erro G: 1.4998315596580505\n",
      "época: 124 erro D: 1.0218125270803768 erro G: 1.8475342283646266\n",
      "época: 125 erro D: 1.0292868211865425 erro G: 1.5783497708042462\n",
      "época: 126 erro D: 1.0361951005458832 erro G: 1.6312008199095727\n",
      "época: 127 erro D: 1.0329319861531259 erro G: 1.7414939446250597\n",
      "época: 128 erro D: 1.0378175867597261 erro G: 1.759743866423766\n",
      "época: 129 erro D: 1.0762699743111928 erro G: 1.6700296932458878\n",
      "época: 130 erro D: 1.0680180112520854 erro G: 1.6887530392408372\n",
      "época: 131 erro D: 1.0260389002164205 erro G: 1.559588150680065\n",
      "época: 132 erro D: 1.026615249812603 erro G: 1.8281072558959326\n",
      "época: 133 erro D: 1.0373209255933762 erro G: 1.6926706558465958\n",
      "época: 134 erro D: 1.0568435322244962 erro G: 1.6275961929559708\n",
      "época: 135 erro D: 1.0158370210727057 erro G: 1.8794645942250887\n",
      "época: 136 erro D: 1.0004738491773606 erro G: 1.7377600424488386\n",
      "época: 137 erro D: 1.0057467168569565 erro G: 1.6165915991862614\n",
      "época: 138 erro D: 1.017384561697642 erro G: 1.6915440559387207\n",
      "época: 139 erro D: 1.0096740514039992 erro G: 1.668019200563431\n",
      "época: 140 erro D: 0.9868490077058474 erro G: 1.741879639228185\n",
      "época: 141 erro D: 0.995549245874087 erro G: 1.6565687994162241\n",
      "época: 142 erro D: 0.9692453771829606 erro G: 1.776139176885287\n",
      "época: 143 erro D: 0.9895715267459552 erro G: 1.6776675126949947\n",
      "época: 144 erro D: 0.9835362842679024 erro G: 1.8341612386703492\n",
      "época: 145 erro D: 0.9783302123347918 erro G: 1.7584941655397415\n",
      "época: 146 erro D: 0.9523582127690315 erro G: 1.781800243159135\n",
      "época: 147 erro D: 0.9385563532511393 erro G: 1.83232921342055\n",
      "época: 148 erro D: 0.9391940169533094 erro G: 1.7589243139823278\n",
      "época: 149 erro D: 0.9265058833360672 erro G: 1.8152945693333944\n",
      "época: 150 erro D: 0.9479915621876717 erro G: 1.7464752584695815\n",
      "época: 151 erro D: 0.9680259053905805 erro G: 1.7607419602076213\n",
      "época: 152 erro D: 0.9576296837131182 erro G: 1.7697918399175008\n",
      "época: 153 erro D: 0.9534628261129061 erro G: 1.7318400408824284\n",
      "época: 154 erro D: 0.9509816208481788 erro G: 1.7413216533263525\n",
      "época: 155 erro D: 0.9622518369555473 erro G: 1.7032704931497573\n",
      "época: 156 erro D: 0.9523532104492187 erro G: 1.7208574755986532\n",
      "época: 157 erro D: 0.9791071778535843 erro G: 1.7078337421019871\n",
      "época: 158 erro D: 0.9866280815005303 erro G: 1.6601636258761088\n",
      "época: 159 erro D: 1.0014057916402817 erro G: 1.6348849262793859\n",
      "época: 160 erro D: 1.0136854813496272 erro G: 1.6566435451308885\n",
      "época: 161 erro D: 1.0105908647179604 erro G: 1.604626733462016\n",
      "época: 162 erro D: 1.0515459704399108 erro G: 1.6336952592929204\n",
      "época: 163 erro D: 1.0504761216044427 erro G: 1.5765603591998418\n",
      "época: 164 erro D: 1.0669017538428307 erro G: 1.5170583871006966\n",
      "época: 165 erro D: 1.0609727092583974 erro G: 1.509771256049474\n",
      "época: 166 erro D: 1.072928000986576 erro G: 1.5656831446290016\n",
      "época: 167 erro D: 1.065652329425017 erro G: 1.609201192756494\n",
      "época: 168 erro D: 1.0674384997288386 erro G: 1.5385252733031909\n",
      "época: 169 erro D: 1.081305762330691 erro G: 1.518785414894422\n",
      "época: 170 erro D: 1.103373534679413 erro G: 1.479629203180472\n",
      "época: 171 erro D: 1.1066921831170717 erro G: 1.506476672788461\n",
      "época: 172 erro D: 1.0917135739326478 erro G: 1.456606658399105\n",
      "época: 173 erro D: 1.0885809792081516 erro G: 1.6220275647441547\n",
      "época: 174 erro D: 1.0923725937803586 erro G: 1.4819642282525698\n",
      "época: 175 erro D: 1.1059688134988148 erro G: 1.4488119770089785\n",
      "época: 176 erro D: 1.0864341157674788 erro G: 1.5126796794931094\n",
      "época: 177 erro D: 1.1029994587103527 erro G: 1.627196450928847\n",
      "época: 178 erro D: 1.083368907570839 erro G: 1.5165124532580376\n",
      "época: 179 erro D: 1.0910171762108802 erro G: 1.5506159437696139\n",
      "época: 180 erro D: 1.1251497653126716 erro G: 1.4169911642869313\n",
      "época: 181 erro D: 1.1152799554665884 erro G: 1.432484021584193\n",
      "época: 182 erro D: 1.1014017554124196 erro G: 1.4542752573887507\n",
      "época: 183 erro D: 1.1300307509303094 erro G: 1.395439660946528\n",
      "época: 184 erro D: 1.130920596718788 erro G: 1.3768338386217753\n",
      "época: 185 erro D: 1.143260211646557 erro G: 1.3811671601732571\n",
      "época: 186 erro D: 1.1528839041789374 erro G: 1.6130440659324328\n",
      "época: 187 erro D: 1.1516237829128901 erro G: 1.3420808957020443\n",
      "época: 188 erro D: 1.1594572283824285 erro G: 1.3767900171875953\n",
      "época: 189 erro D: 1.1382800662517547 erro G: 1.4255164535840352\n",
      "época: 190 erro D: 1.1480868216355642 erro G: 1.354820920228958\n",
      "época: 191 erro D: 1.1370742457111676 erro G: 1.4042809833089511\n",
      "época: 192 erro D: 1.1495251707235972 erro G: 1.4129960608482361\n",
      "época: 193 erro D: 1.157554612060388 erro G: 1.3518686468402545\n",
      "época: 194 erro D: 1.1661259949207305 erro G: 1.4013282283147177\n",
      "época: 195 erro D: 1.1379998074968656 erro G: 1.417171443204085\n",
      "época: 196 erro D: 1.134254984954993 erro G: 1.3604952178398768\n",
      "época: 197 erro D: 1.1219902167717615 erro G: 1.4411743932962418\n",
      "época: 198 erro D: 1.1528500802318256 erro G: 1.4095727570851644\n",
      "época: 199 erro D: 1.1829170003533362 erro G: 1.3166376755634943\n",
      "época: 200 erro D: 1.1711875957250595 erro G: 1.3930746101339657\n",
      "época: 201 erro D: 1.1896647494037946 erro G: 1.3200406240423521\n",
      "época: 202 erro D: 1.1848520180583 erro G: 1.3256784397363663\n",
      "época: 203 erro D: 1.1847483879327774 erro G: 1.3117057732741038\n",
      "época: 204 erro D: 1.1793390493591627 erro G: 1.4196490075190862\n",
      "época: 205 erro D: 1.1809958104292553 erro G: 1.2859740909934043\n",
      "época: 206 erro D: 1.1631701359152793 erro G: 1.2875065099199612\n",
      "época: 207 erro D: 1.1654692535599074 erro G: 1.3678694435954093\n",
      "época: 208 erro D: 1.1758021559317906 erro G: 1.2658393731713296\n",
      "época: 209 erro D: 1.184972775975863 erro G: 1.30050463895003\n",
      "época: 210 erro D: 1.1938432300090789 erro G: 1.32444695353508\n",
      "época: 211 erro D: 1.1868811587492625 erro G: 1.3832827667395273\n",
      "época: 212 erro D: 1.178456764817238 erro G: 1.3512137832244238\n",
      "época: 213 erro D: 1.1805493089556693 erro G: 1.3545224779844285\n",
      "época: 214 erro D: 1.1665577071905135 erro G: 1.3871445754170417\n",
      "época: 215 erro D: 1.1712816226482392 erro G: 1.3339905509352683\n",
      "época: 216 erro D: 1.1594696520765622 erro G: 1.296843613286813\n",
      "época: 217 erro D: 1.1747280113895735 erro G: 1.3324254378676414\n",
      "época: 218 erro D: 1.1706973432501158 erro G: 1.3789562825361887\n",
      "época: 219 erro D: 1.176119183599949 erro G: 1.407122298181057\n",
      "época: 220 erro D: 1.172642036775748 erro G: 1.292136017580827\n",
      "época: 221 erro D: 1.175532234708468 erro G: 1.3603561032811802\n",
      "época: 222 erro D: 1.163642002940178 erro G: 1.3501344424486161\n",
      "época: 223 erro D: 1.1651420882344246 erro G: 1.3839688810706139\n",
      "época: 224 erro D: 1.177948787609736 erro G: 1.3204919720689456\n",
      "época: 225 erro D: 1.1619271963834763 erro G: 1.314602534075578\n",
      "época: 226 erro D: 1.1712105050683022 erro G: 1.341150195002556\n",
      "época: 227 erro D: 1.1700927152236302 erro G: 1.2930351092418035\n",
      "época: 228 erro D: 1.1708875418702762 erro G: 1.2575647432605426\n",
      "época: 229 erro D: 1.226035969555378 erro G: 1.2556788269678751\n",
      "época: 230 erro D: 1.2021386190255483 erro G: 1.4057847384611766\n",
      "época: 231 erro D: 1.1966226308544476 erro G: 1.2775032515327136\n",
      "época: 232 erro D: 1.1888744512200355 erro G: 1.2840242715676626\n",
      "época: 233 erro D: 1.171151795188586 erro G: 1.2783615778883297\n",
      "época: 234 erro D: 1.1790508062640825 erro G: 1.3354002446929614\n",
      "época: 235 erro D: 1.2126622158288956 erro G: 1.3403690632184346\n",
      "época: 236 erro D: 1.1736051271359125 erro G: 1.364917902847131\n",
      "época: 237 erro D: 1.190669248700142 erro G: 1.2235619443655015\n",
      "época: 238 erro D: 1.1924008924762408 erro G: 1.3528273536761601\n",
      "época: 239 erro D: 1.1850559752186138 erro G: 1.2829735779762268\n",
      "época: 240 erro D: 1.1972638591130575 erro G: 1.2407258650660515\n",
      "época: 241 erro D: 1.1929494200150172 erro G: 1.292880111237367\n",
      "época: 242 erro D: 1.197505107919375 erro G: 1.2546338483691215\n",
      "época: 243 erro D: 1.2071788780887922 erro G: 1.2429187968373299\n",
      "época: 244 erro D: 1.1730453671018282 erro G: 1.2730987615386644\n",
      "época: 245 erro D: 1.176706992685795 erro G: 1.346632989048958\n",
      "época: 246 erro D: 1.1785646677017212 erro G: 1.2573725774884223\n",
      "época: 247 erro D: 1.1822037520011266 erro G: 1.2635648978749912\n",
      "época: 248 erro D: 1.1958609115084011 erro G: 1.3317395846048992\n",
      "época: 249 erro D: 1.1932514710227649 erro G: 1.3585693313678107\n",
      "época: 250 erro D: 1.1885391771793365 erro G: 1.1861458693941433\n",
      "época: 251 erro D: 1.209516987701257 erro G: 1.440380376180013\n",
      "época: 252 erro D: 1.214921076397101 erro G: 1.2234300578633943\n",
      "época: 253 erro D: 1.2110283825794856 erro G: 1.2261262156565984\n",
      "época: 254 erro D: 1.2100831066568694 erro G: 1.3035440001885097\n",
      "época: 255 erro D: 1.2182691085338593 erro G: 1.1926847566167513\n",
      "época: 256 erro D: 1.2277882999181748 erro G: 1.2175081765651703\n",
      "época: 257 erro D: 1.2220470824837684 erro G: 1.2835683114329974\n",
      "época: 258 erro D: 1.2292431931694348 erro G: 1.233254298567772\n",
      "época: 259 erro D: 1.2467878355582556 erro G: 1.2348481861750285\n",
      "época: 260 erro D: 1.2598219816883405 erro G: 1.298803456823031\n",
      "época: 261 erro D: 1.1949839012821515 erro G: 1.2765376530090968\n",
      "época: 262 erro D: 1.2068470107515652 erro G: 1.2001423388719559\n",
      "época: 263 erro D: 1.1807443501551946 erro G: 1.4397061794996262\n",
      "época: 264 erro D: 1.2041481228669484 erro G: 1.201986411611239\n",
      "época: 265 erro D: 1.207289530336857 erro G: 1.2211264130473136\n",
      "época: 266 erro D: 1.2064188349246978 erro G: 1.2689007257421812\n",
      "época: 267 erro D: 1.2014779365062713 erro G: 1.2012830739219984\n",
      "época: 268 erro D: 1.200614995956421 erro G: 1.255334367553393\n",
      "época: 269 erro D: 1.2169335493445397 erro G: 1.2652196911970774\n",
      "época: 270 erro D: 1.2101815618077914 erro G: 1.1805401545763017\n",
      "época: 271 erro D: 1.2039368827144306 erro G: 1.2458783118923504\n",
      "época: 272 erro D: 1.232283118267854 erro G: 1.295068328777949\n",
      "época: 273 erro D: 1.2413165587186814 erro G: 1.1007314846913019\n",
      "época: 274 erro D: 1.2110794963439306 erro G: 1.3018203840653102\n",
      "época: 275 erro D: 1.2247309097647667 erro G: 1.1884191963076591\n",
      "época: 276 erro D: 1.2150241440534593 erro G: 1.453660085995992\n",
      "época: 277 erro D: 1.2269505056738854 erro G: 1.1646737838784853\n",
      "época: 278 erro D: 1.2279259407520293 erro G: 1.1892048998673757\n",
      "época: 279 erro D: 1.198484787940979 erro G: 1.216520946621895\n",
      "época: 280 erro D: 1.20409980148077 erro G: 1.273207893470923\n",
      "época: 281 erro D: 1.228304527203242 erro G: 1.2073102975885073\n",
      "época: 282 erro D: 1.2371278152863185 erro G: 1.1560473256309827\n",
      "época: 283 erro D: 1.2340820984045664 erro G: 1.1339458961288134\n",
      "época: 284 erro D: 1.2186979355414709 erro G: 1.2381987053155898\n",
      "época: 285 erro D: 1.2541007835666338 erro G: 1.1971255019307137\n",
      "época: 286 erro D: 1.2234689858555794 erro G: 1.2885814016064008\n",
      "época: 287 erro D: 1.2389677000045776 erro G: 1.140456764002641\n",
      "época: 288 erro D: 1.22214384496212 erro G: 1.2490202395121257\n",
      "época: 289 erro D: 1.2293492439389229 erro G: 1.1594596925377845\n",
      "época: 290 erro D: 1.2271230647961298 erro G: 1.1768250208099682\n",
      "época: 291 erro D: 1.2291613432765007 erro G: 1.1491405202945073\n",
      "época: 292 erro D: 1.2275491479039191 erro G: 1.3395587953925132\n",
      "época: 293 erro D: 1.2235399532318114 erro G: 1.1929942705233891\n",
      "época: 294 erro D: 1.219366694688797 erro G: 1.119292906820774\n",
      "época: 295 erro D: 1.2134474172194798 erro G: 1.160359107553959\n",
      "época: 296 erro D: 1.2105595699946086 erro G: 1.1579429057240487\n",
      "época: 297 erro D: 1.221250677506129 erro G: 1.2889825971921285\n",
      "época: 298 erro D: 1.2199548850456874 erro G: 1.3201833742856979\n",
      "época: 299 erro D: 1.2127009637157122 erro G: 1.2739222534497578\n",
      "época: 300 erro D: 1.2335087313254673 erro G: 1.0991712666551272\n"
     ]
    }
   ],
   "source": [
    "batch_size = 100\n",
    "amostras_teste = []\n",
    "treinamento_discriminador = tf.keras.optimizers.Adam(learning_rate = 0.001)\n",
    "treinamento_gerador = tf.keras.optimizers.Adam(learning_rate = 0.001)\n",
    "\n",
    "for epoca in range(300):\n",
    "    erro_gerador_batch = 0.\n",
    "    erro_discriminador_batch = 0.\n",
    "    n_batches = 0\n",
    "    for X_batch, _ in ds_train.batch(batch_size):\n",
    "        n_batches += 1\n",
    "\n",
    "        imagens_reais = tf.reshape(X_batch * 2 - 1, shape = (batch_size, -1))\n",
    "        batch_ruido = tf.random.uniform(shape = (batch_size, 100), minval = -1, maxval = 1)\n",
    "        \n",
    "        with tf.GradientTape() as tape_gerador, tf.GradientTape() as tape_discriminador:\n",
    "            imagens_ruido = gerador(batch_ruido)\n",
    "\n",
    "            logits_imagens_reais = discriminador(imagens_reais)\n",
    "            logits_imagens_ruido = discriminador(imagens_ruido)\n",
    "\n",
    "            erro_gerador = tf.reduce_mean(tf.nn.sigmoid_cross_entropy_with_logits(labels = tf.ones_like(logits_imagens_ruido), \n",
    "                                                                                  logits = logits_imagens_ruido))\n",
    "        \n",
    "            erro_discriminador_real = tf.reduce_mean(tf.nn.sigmoid_cross_entropy_with_logits(labels = tf.ones_like(logits_imagens_reais) * 0.9,\n",
    "                                                                                             logits = logits_imagens_reais))\n",
    "            erro_discriminador_ruido = tf.reduce_mean(tf.nn.sigmoid_cross_entropy_with_logits(labels = tf.zeros_like(logits_imagens_ruido),\n",
    "                                                                                              logits = logits_imagens_ruido))\n",
    "            erro_discriminador = erro_discriminador_real + erro_discriminador_ruido\n",
    "        \n",
    "        gradients = tape_gerador.gradient(erro_gerador, gerador.trainable_variables)\n",
    "        treinamento_gerador.apply_gradients(zip(gradients, gerador.trainable_variables))\n",
    "        \n",
    "        gradients = tape_discriminador.gradient(erro_discriminador, discriminador.trainable_variables)\n",
    "        treinamento_discriminador.apply_gradients(zip(gradients, discriminador.trainable_variables))\n",
    "\n",
    "        erro_gerador_batch += erro_gerador.numpy()\n",
    "        erro_discriminador_batch += erro_discriminador.numpy()\n",
    "    \n",
    "    erro_gerador_batch /= n_batches\n",
    "    erro_discriminador_batch /= n_batches\n",
    "    print('época: ' + str(epoca + 1) + ' erro D: ' + str(erro_discriminador_batch) + ' erro G: ' + str(erro_gerador_batch))\n",
    "\n",
    "    # No final de cada época, gerar uma imagem com o gerador treinado\n",
    "    ruido_teste = tf.random.uniform(shape = (1, 100), minval = -1, maxval = 1)\n",
    "    imagem_gerada = gerador(ruido_teste)\n",
    "    amostras_teste.append(imagem_gerada.numpy().reshape(28, 28))"
   ]
  },
  {
   "cell_type": "code",
   "execution_count": null,
   "metadata": {
    "colab": {
     "base_uri": "https://localhost:8080/",
     "height": 281
    },
    "colab_type": "code",
    "executionInfo": {
     "elapsed": 4586917,
     "status": "ok",
     "timestamp": 1599745005511,
     "user": {
      "displayName": "Denny Seccon",
      "photoUrl": "https://lh3.googleusercontent.com/a-/AOh14GgJKBMgIypXsiOd8ZOSskERpZBMuJN6csHlr9Wo=s64",
      "userId": "03904535882374894686"
     },
     "user_tz": 180
    },
    "id": "dPy3ugvV4bG4",
    "outputId": "d603de67-dd7d-43b6-e4b1-ed4c537fedd6"
   },
   "outputs": [
    {
     "data": {
      "text/plain": [
       "<matplotlib.image.AxesImage at 0x7fa0300b77b8>"
      ]
     },
     "execution_count": 19,
     "metadata": {
      "tags": []
     },
     "output_type": "execute_result"
    },
    {
     "data": {
      "image/png": "[encoded data removed]",
      "text/plain": [
       "<Figure size 432x288 with 1 Axes>"
      ]
     },
     "metadata": {
      "needs_background": "light",
      "tags": []
     },
     "output_type": "display_data"
    }
   ],
   "source": [
    "plt.imshow(amostras_teste[0].reshape(28, 28))"
   ]
  },
  {
   "cell_type": "code",
   "execution_count": null,
   "metadata": {
    "colab": {
     "base_uri": "https://localhost:8080/",
     "height": 281
    },
    "colab_type": "code",
    "executionInfo": {
     "elapsed": 4586888,
     "status": "ok",
     "timestamp": 1599745005513,
     "user": {
      "displayName": "Denny Seccon",
      "photoUrl": "https://lh3.googleusercontent.com/a-/AOh14GgJKBMgIypXsiOd8ZOSskERpZBMuJN6csHlr9Wo=s64",
      "userId": "03904535882374894686"
     },
     "user_tz": 180
    },
    "id": "IWImx1CGc3Mq",
    "outputId": "993e8aa7-7a92-40f8-8d99-b395388bdb49"
   },
   "outputs": [
    {
     "data": {
      "text/plain": [
       "<matplotlib.image.AxesImage at 0x7fa030092860>"
      ]
     },
     "execution_count": 20,
     "metadata": {
      "tags": []
     },
     "output_type": "execute_result"
    },
    {
     "data": {
      "image/png": "[encoded data removed]",
      "text/plain": [
       "<Figure size 432x288 with 1 Axes>"
      ]
     },
     "metadata": {
      "needs_background": "light",
      "tags": []
     },
     "output_type": "display_data"
    }
   ],
   "source": [
    "plt.imshow(amostras_teste[100].reshape(28, 28))"
   ]
  },
  {
   "cell_type": "code",
   "execution_count": null,
   "metadata": {
    "colab": {
     "base_uri": "https://localhost:8080/",
     "height": 281
    },
    "colab_type": "code",
    "executionInfo": {
     "elapsed": 4587789,
     "status": "ok",
     "timestamp": 1599745006447,
     "user": {
      "displayName": "Denny Seccon",
      "photoUrl": "https://lh3.googleusercontent.com/a-/AOh14GgJKBMgIypXsiOd8ZOSskERpZBMuJN6csHlr9Wo=s64",
      "userId": "03904535882374894686"
     },
     "user_tz": 180
    },
    "id": "k_HiCMlnc4Ry",
    "outputId": "840bc9b5-b2cd-41d8-8e30-64a46c7927fb"
   },
   "outputs": [
    {
     "data": {
      "text/plain": [
       "<matplotlib.image.AxesImage at 0x7fa03006c908>"
      ]
     },
     "execution_count": 21,
     "metadata": {
      "tags": []
     },
     "output_type": "execute_result"
    },
    {
     "data": {
      "image/png": "[encoded data removed]",
      "text/plain": [
       "<Figure size 432x288 with 1 Axes>"
      ]
     },
     "metadata": {
      "needs_background": "light",
      "tags": []
     },
     "output_type": "display_data"
    }
   ],
   "source": [
    "plt.imshow(amostras_teste[200].reshape(28, 28))"
   ]
  },
  {
   "cell_type": "code",
   "execution_count": null,
   "metadata": {
    "colab": {
     "base_uri": "https://localhost:8080/",
     "height": 281
    },
    "colab_type": "code",
    "executionInfo": {
     "elapsed": 4587770,
     "status": "ok",
     "timestamp": 1599745006448,
     "user": {
      "displayName": "Denny Seccon",
      "photoUrl": "https://lh3.googleusercontent.com/a-/AOh14GgJKBMgIypXsiOd8ZOSskERpZBMuJN6csHlr9Wo=s64",
      "userId": "03904535882374894686"
     },
     "user_tz": 180
    },
    "id": "isVW-FxCc38Q",
    "outputId": "f9bed25f-1b90-41ff-8fa9-15fb181f50e3"
   },
   "outputs": [
    {
     "data": {
      "text/plain": [
       "<matplotlib.image.AxesImage at 0x7fa02ffc99e8>"
      ]
     },
     "execution_count": 22,
     "metadata": {
      "tags": []
     },
     "output_type": "execute_result"
    },
    {
     "data": {
      "image/png": "[encoded data removed]",
      "text/plain": [
       "<Figure size 432x288 with 1 Axes>"
      ]
     },
     "metadata": {
      "needs_background": "light",
      "tags": []
     },
     "output_type": "display_data"
    }
   ],
   "source": [
    "plt.imshow(amostras_teste[-1].reshape(28, 28))"
   ]
  }
 ],
 "metadata": {
  "accelerator": "GPU",
  "colab": {
   "collapsed_sections": [],
   "name": "1 GAN_mnist.ipynb",
   "provenance": [],
   "toc_visible": true
  },
  "kernelspec": {
   "display_name": "Python [conda env:base] *",
   "language": "python",
   "name": "conda-base-py"
  },
  "language_info": {
   "codemirror_mode": {
    "name": "ipython",
    "version": 3
   },
   "file_extension": ".py",
   "mimetype": "text/x-python",
   "name": "python",
   "nbconvert_exporter": "python",
   "pygments_lexer": "ipython3",
   "version": "3.12.7"
  },
  "widgets": {
   "application/vnd.jupyter.widget-state+json": {
    "2835c27c94f94fb3bf0028ce24478b8f": {
     "model_module": "@jupyter-widgets/controls",
     "model_name": "HTMLModel",
     "state": {
      "_dom_classes": [],
      "_model_module": "@jupyter-widgets/controls",
      "_model_module_version": "1.5.0",
      "_model_name": "HTMLModel",
      "_view_count": null,
      "_view_module": "@jupyter-widgets/controls",
      "_view_module_version": "1.5.0",
      "_view_name": "HTMLView",
      "description": "",
      "description_tooltip": null,
      "layout": "IPY_MODEL_b7ffca859d5448c5a367fe6cf0a2b4fa",
      "placeholder": "​",
      "style": "IPY_MODEL_94ac83ef683044d38f659836738273d6",
      "value": " 4/4 [00:08&lt;00:00,  2.09s/ file]"
     }
    },
    "30a87d0ca8e44f1eb6a72002f42c2fa0": {
     "model_module": "@jupyter-widgets/controls",
     "model_name": "FloatProgressModel",
     "state": {
      "_dom_classes": [],
      "_model_module": "@jupyter-widgets/controls",
      "_model_module_version": "1.5.0",
      "_model_name": "FloatProgressModel",
      "_view_count": null,
      "_view_module": "@jupyter-widgets/controls",
      "_view_module_version": "1.5.0",
      "_view_name": "ProgressView",
      "bar_style": "success",
      "description": "Dl Completed...: 100%",
      "description_tooltip": null,
      "layout": "IPY_MODEL_7b56ff24fb1c49cd8ae98df793c6f245",
      "max": 4,
      "min": 0,
      "orientation": "horizontal",
      "style": "IPY_MODEL_e3d86ceea7eb44da90f7650fd608b3f8",
      "value": 4
     }
    },
    "7b56ff24fb1c49cd8ae98df793c6f245": {
     "model_module": "@jupyter-widgets/base",
     "model_name": "LayoutModel",
     "state": {
      "_model_module": "@jupyter-widgets/base",
      "_model_module_version": "1.2.0",
      "_model_name": "LayoutModel",
      "_view_count": null,
      "_view_module": "@jupyter-widgets/base",
      "_view_module_version": "1.2.0",
      "_view_name": "LayoutView",
      "align_content": null,
      "align_items": null,
      "align_self": null,
      "border": null,
      "bottom": null,
      "display": null,
      "flex": null,
      "flex_flow": null,
      "grid_area": null,
      "grid_auto_columns": null,
      "grid_auto_flow": null,
      "grid_auto_rows": null,
      "grid_column": null,
      "grid_gap": null,
      "grid_row": null,
      "grid_template_areas": null,
      "grid_template_columns": null,
      "grid_template_rows": null,
      "height": null,
      "justify_content": null,
      "justify_items": null,
      "left": null,
      "margin": null,
      "max_height": null,
      "max_width": null,
      "min_height": null,
      "min_width": null,
      "object_fit": null,
      "object_position": null,
      "order": null,
      "overflow": null,
      "overflow_x": null,
      "overflow_y": null,
      "padding": null,
      "right": null,
      "top": null,
      "visibility": null,
      "width": null
     }
    },
    "94ac83ef683044d38f659836738273d6": {
     "model_module": "@jupyter-widgets/controls",
     "model_name": "DescriptionStyleModel",
     "state": {
      "_model_module": "@jupyter-widgets/controls",
      "_model_module_version": "1.5.0",
      "_model_name": "DescriptionStyleModel",
      "_view_count": null,
      "_view_module": "@jupyter-widgets/base",
      "_view_module_version": "1.2.0",
      "_view_name": "StyleView",
      "description_width": ""
     }
    },
    "a773fcc408dc4573895f264279079fd5": {
     "model_module": "@jupyter-widgets/base",
     "model_name": "LayoutModel",
     "state": {
      "_model_module": "@jupyter-widgets/base",
      "_model_module_version": "1.2.0",
      "_model_name": "LayoutModel",
      "_view_count": null,
      "_view_module": "@jupyter-widgets/base",
      "_view_module_version": "1.2.0",
      "_view_name": "LayoutView",
      "align_content": null,
      "align_items": null,
      "align_self": null,
      "border": null,
      "bottom": null,
      "display": null,
      "flex": null,
      "flex_flow": null,
      "grid_area": null,
      "grid_auto_columns": null,
      "grid_auto_flow": null,
      "grid_auto_rows": null,
      "grid_column": null,
      "grid_gap": null,
      "grid_row": null,
      "grid_template_areas": null,
      "grid_template_columns": null,
      "grid_template_rows": null,
      "height": null,
      "justify_content": null,
      "justify_items": null,
      "left": null,
      "margin": null,
      "max_height": null,
      "max_width": null,
      "min_height": null,
      "min_width": null,
      "object_fit": null,
      "object_position": null,
      "order": null,
      "overflow": null,
      "overflow_x": null,
      "overflow_y": null,
      "padding": null,
      "right": null,
      "top": null,
      "visibility": null,
      "width": null
     }
    },
    "b7ffca859d5448c5a367fe6cf0a2b4fa": {
     "model_module": "@jupyter-widgets/base",
     "model_name": "LayoutModel",
     "state": {
      "_model_module": "@jupyter-widgets/base",
      "_model_module_version": "1.2.0",
      "_model_name": "LayoutModel",
      "_view_count": null,
      "_view_module": "@jupyter-widgets/base",
      "_view_module_version": "1.2.0",
      "_view_name": "LayoutView",
      "align_content": null,
      "align_items": null,
      "align_self": null,
      "border": null,
      "bottom": null,
      "display": null,
      "flex": null,
      "flex_flow": null,
      "grid_area": null,
      "grid_auto_columns": null,
      "grid_auto_flow": null,
      "grid_auto_rows": null,
      "grid_column": null,
      "grid_gap": null,
      "grid_row": null,
      "grid_template_areas": null,
      "grid_template_columns": null,
      "grid_template_rows": null,
      "height": null,
      "justify_content": null,
      "justify_items": null,
      "left": null,
      "margin": null,
      "max_height": null,
      "max_width": null,
      "min_height": null,
      "min_width": null,
      "object_fit": null,
      "object_position": null,
      "order": null,
      "overflow": null,
      "overflow_x": null,
      "overflow_y": null,
      "padding": null,
      "right": null,
      "top": null,
      "visibility": null,
      "width": null
     }
    },
    "e3d86ceea7eb44da90f7650fd608b3f8": {
     "model_module": "@jupyter-widgets/controls",
     "model_name": "ProgressStyleModel",
     "state": {
      "_model_module": "@jupyter-widgets/controls",
      "_model_module_version": "1.5.0",
      "_model_name": "ProgressStyleModel",
      "_view_count": null,
      "_view_module": "@jupyter-widgets/base",
      "_view_module_version": "1.2.0",
      "_view_name": "StyleView",
      "bar_color": null,
      "description_width": "initial"
     }
    },
    "f4443d8d91d044b0ad2bac8a1a23800c": {
     "model_module": "@jupyter-widgets/controls",
     "model_name": "HBoxModel",
     "state": {
      "_dom_classes": [],
      "_model_module": "@jupyter-widgets/controls",
      "_model_module_version": "1.5.0",
      "_model_name": "HBoxModel",
      "_view_count": null,
      "_view_module": "@jupyter-widgets/controls",
      "_view_module_version": "1.5.0",
      "_view_name": "HBoxView",
      "box_style": "",
      "children": [
       "IPY_MODEL_30a87d0ca8e44f1eb6a72002f42c2fa0",
       "IPY_MODEL_2835c27c94f94fb3bf0028ce24478b8f"
      ],
      "layout": "IPY_MODEL_a773fcc408dc4573895f264279079fd5"
     }
    }
   }
  }
 },
 "nbformat": 4,
 "nbformat_minor": 4
}
